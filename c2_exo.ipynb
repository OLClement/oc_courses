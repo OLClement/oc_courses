{
 "cells": [
  {
   "cell_type": "markdown",
   "metadata": {},
   "source": [
    "## Tests statistiques sur la probabilité de naitre homme ou femme.\n",
    "* Echantillon1: 399 284 hommes contre 381 883\n",
    "* Test d'équiprobabilité"
   ]
  },
  {
   "cell_type": "markdown",
   "metadata": {},
   "source": [
    "##  Q1"
   ]
  },
  {
   "cell_type": "code",
   "execution_count": 18,
   "metadata": {},
   "outputs": [],
   "source": [
    "n_homme = 399284\n",
    "n_femme = 381883"
   ]
  },
  {
   "cell_type": "code",
   "execution_count": 19,
   "metadata": {},
   "outputs": [
    {
     "name": "stdout",
     "output_type": "stream",
     "text": [
      "proportion d'hommes: 0.51\n"
     ]
    }
   ],
   "source": [
    "n = n_homme + n_femme\n",
    "p = n_homme / n\n",
    "print(\"proportion d'hommes:\",round(p,2))"
   ]
  },
  {
   "cell_type": "markdown",
   "metadata": {},
   "source": [
    "On test ici une proportion : Loi de Bernouilli avec p = 0.51"
   ]
  },
  {
   "cell_type": "code",
   "execution_count": 20,
   "metadata": {},
   "outputs": [
    {
     "name": "stdout",
     "output_type": "stream",
     "text": [
      "p-valeur: 1.3741661348079848e-86\n",
      "rounded p-valeur: 0.0\n"
     ]
    }
   ],
   "source": [
    "from statsmodels.stats.proportion import binom_test\n",
    "\n",
    "p_0 = 0.5\n",
    "\n",
    "\"\"\"\n",
    "input = nb success, nb failed, p_0 et type de test (bilatere, unilatere etc.)\n",
    "\"\"\"\n",
    "p_value = binom_test(n_homme,n, prop=p_0, alternative='larger')\n",
    "\n",
    "print('p-valeur:',p_value)\n",
    "print('rounded p-valeur:',round(p_value,2))"
   ]
  },
  {
   "cell_type": "markdown",
   "metadata": {},
   "source": [
    "## Q2\n",
    "P_valeur de 0%, inférieure à 5%. On rejette donc l'hypothèse nulle au niveau de test 5%."
   ]
  },
  {
   "cell_type": "markdown",
   "metadata": {},
   "source": [
    "## Q3\n",
    "* échantillon de taille n = 100\n",
    "* échantillon de taille n = 1000\n",
    "* échantillon de taille n = 10000"
   ]
  },
  {
   "cell_type": "code",
   "execution_count": 21,
   "metadata": {},
   "outputs": [
    {
     "name": "stdout",
     "output_type": "stream",
     "text": [
      "n=10, p-valeur: 0.6230468749999999\n"
     ]
    }
   ],
   "source": [
    "n=10\n",
    "n_homme = p*n\n",
    "p_value = binom_test(n_homme,n, prop=p_0, alternative='larger')\n",
    "\n",
    "print('n=10, p-valeur:',p_value)"
   ]
  },
  {
   "cell_type": "code",
   "execution_count": 22,
   "metadata": {},
   "outputs": [
    {
     "name": "stdout",
     "output_type": "stream",
     "text": [
      "n=100 p-valeur: 0.4602053813064103\n"
     ]
    }
   ],
   "source": [
    "n=100\n",
    "n_homme = p*n\n",
    "p_value = binom_test(n_homme,n, prop=p_0, alternative='larger')\n",
    "\n",
    "print('n=100 p-valeur:',p_value)"
   ]
  },
  {
   "cell_type": "code",
   "execution_count": 23,
   "metadata": {},
   "outputs": [
    {
     "name": "stdout",
     "output_type": "stream",
     "text": [
      "n=1000, p-valeur: 0.2533300213124749\n"
     ]
    }
   ],
   "source": [
    "n=1000\n",
    "n_homme = p*n\n",
    "p_value = binom_test(n_homme,n, prop=p_0, alternative='larger')\n",
    "\n",
    "print('n=1000, p-valeur:',p_value)"
   ]
  },
  {
   "cell_type": "code",
   "execution_count": 25,
   "metadata": {},
   "outputs": [
    {
     "name": "stdout",
     "output_type": "stream",
     "text": [
      "n= 781167 , p-valeur: 1.436938781696969e-86\n"
     ]
    }
   ],
   "source": [
    "n=399284+381883\n",
    "n_homme = p*n\n",
    "p_value = binom_test(n_homme,n, prop=p_0, alternative='larger')\n",
    "\n",
    "print('n=',n,', p-valeur:',p_value)"
   ]
  },
  {
   "cell_type": "markdown",
   "metadata": {},
   "source": [
    "## Q4\n",
    "* n=10 : p_valeur = 62%, supérieure à 5%. On ne rejette donc pas l'hypothèse nulle au niveau de test 5%.\n",
    "* n=100 : p_valeur = 46%, supérieure à 5%. On ne rejette donc pas l'hypothèse nulle au niveau de test 5%.\n",
    "* n=1000 : p_valeur = 25%, supérieure à 5%. On ne rejette donc pas l'hypothèse nulle au niveau de test 5%."
   ]
  }
 ],
 "metadata": {
  "kernelspec": {
   "display_name": "Python 3",
   "language": "python",
   "name": "python3"
  },
  "language_info": {
   "codemirror_mode": {
    "name": "ipython",
    "version": 3
   },
   "file_extension": ".py",
   "mimetype": "text/x-python",
   "name": "python",
   "nbconvert_exporter": "python",
   "pygments_lexer": "ipython3",
   "version": "3.7.3"
  }
 },
 "nbformat": 4,
 "nbformat_minor": 2
}
