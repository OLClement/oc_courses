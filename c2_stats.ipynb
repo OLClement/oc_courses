{
 "cells": [
  {
   "cell_type": "code",
   "execution_count": 1,
   "metadata": {},
   "outputs": [],
   "source": [
    "import numpy as np\n",
    "import pandas as pd\n",
    "%matplotlib inline\n",
    "import matplotlib\n",
    "import matplotlib.pyplot as plt\n",
    "from matplotlib import lines\n",
    "import math\n",
    "\n",
    "essence = pd.read_csv('datasets/essence.txt')"
   ]
  },
  {
   "cell_type": "markdown",
   "metadata": {},
   "source": [
    "Calcule moyenne, variance et ecart-type de l'echantillon"
   ]
  },
  {
   "cell_type": "code",
   "execution_count": 2,
   "metadata": {},
   "outputs": [
    {
     "name": "stdout",
     "output_type": "stream",
     "text": [
      "moyenne: 31.45\n",
      "variance: 4.66\n",
      "ecart-type: 2.16\n"
     ]
    }
   ],
   "source": [
    "xbar = np.mean(essence['conso'])\n",
    "print('moyenne:',round(xbar,2))\n",
    "\n",
    "sprime2 = np.var(essence['conso'],ddof=1)\n",
    "print('variance:',round(sprime2,2))\n",
    "\n",
    "sprime = np.std(essence['conso'],ddof=1)\n",
    "print('ecart-type:',round(sprime,2))"
   ]
  },
  {
   "cell_type": "code",
   "execution_count": 3,
   "metadata": {},
   "outputs": [
    {
     "name": "stdout",
     "output_type": "stream",
     "text": [
      "variance biaisée: 4.63\n"
     ]
    }
   ],
   "source": [
    "# variance biaisée = ne prenant pas en compte la taille de m'echantillon\n",
    "n_essence = len(essence)\n",
    "v = np.var(essence['conso'])\n",
    "print('variance biaisée:',round(v,2))"
   ]
  },
  {
   "cell_type": "markdown",
   "metadata": {},
   "source": [
    "Histogramme de la valeurs consommation avec:\n",
    "* moyenne empirique \n",
    "* seuil \"métier\""
   ]
  },
  {
   "cell_type": "code",
   "execution_count": 4,
   "metadata": {},
   "outputs": [
    {
     "data": {
      "image/png": "[encoded data removed]",
      "text/plain": [
       "<Figure size 432x288 with 1 Axes>"
      ]
     },
     "metadata": {
      "needs_background": "light"
     },
     "output_type": "display_data"
    }
   ],
   "source": [
    "mu0 = 31\n",
    "\n",
    "plt.hist(essence['conso'],bins=range(26,38))\n",
    "plt.title('Histograme')\n",
    "# moyenne empirique\n",
    "plt.axvline(xbar, color='r', linewidth=2)\n",
    "# seuile métier\n",
    "plt.axvline(mu0, color='b',linewidth=2)\n",
    "plt.legend(handles=[lines.Line2D([], [], color='red',markersize=15, label=\"Moyenne empirique\"),\n",
    "                    lines.Line2D([], [], color='blue',markersize=15, label=u\"Seuil testé\")])\n",
    "plt.show()"
   ]
  },
  {
   "cell_type": "markdown",
   "metadata": {},
   "source": [
    "Taux de guérison"
   ]
  },
  {
   "cell_type": "code",
   "execution_count": 5,
   "metadata": {},
   "outputs": [],
   "source": [
    "guerison = pd.read_csv('datasets/guerison.txt')"
   ]
  },
  {
   "cell_type": "code",
   "execution_count": 6,
   "metadata": {},
   "outputs": [
    {
     "name": "stdout",
     "output_type": "stream",
     "text": [
      "proportion gueris: 0.77 %\n"
     ]
    }
   ],
   "source": [
    "n_guerison = len(guerison)\n",
    "n_guerison_gueris = np.sum(guerison.loc[guerison['guerison'] == 1]['guerison'])\n",
    "\n",
    "p_estim = n_guerison_gueris/n_guerison\n",
    "print('proportion gueris:',round(p_estim,2),'%')"
   ]
  },
  {
   "cell_type": "code",
   "execution_count": 7,
   "metadata": {},
   "outputs": [
    {
     "name": "stdout",
     "output_type": "stream",
     "text": [
      "Intervalle de confiance = 95.0 %\n",
      "Borne inférieure = 0.717\n",
      "Borne supérieure = 0.829\n"
     ]
    }
   ],
   "source": [
    "alpha = 0.05\n",
    "\n",
    "from scipy.stats import norm\n",
    "\n",
    "icinf = p_estim - norm.ppf(1-alpha/2)*math.sqrt(p_estim*(1-p_estim)/n_guerison)\n",
    "icsup = p_estim + norm.ppf(1-alpha/2)*math.sqrt(p_estim*(1-p_estim)/n_guerison)\n",
    "\n",
    "print('Intervalle de confiance =',100*(1-alpha),'%')\n",
    "print(\"Borne inférieure =\",round(icinf,3))\n",
    "print(\"Borne supérieure =\",round(icsup,3))"
   ]
  },
  {
   "cell_type": "markdown",
   "metadata": {},
   "source": [
    "95% de chance que le taux de guérison soit compris entre 0.717 et 0.829."
   ]
  },
  {
   "cell_type": "code",
   "execution_count": 8,
   "metadata": {},
   "outputs": [
    {
     "name": "stdout",
     "output_type": "stream",
     "text": [
      "Intervalle de confiance = 90.0 %\n",
      "Borne inférieure = 0.726\n",
      "Borne supérieure = 0.82\n"
     ]
    }
   ],
   "source": [
    "# proportion_confint du package statsmodel.stats.proportion effectue le calcul \n",
    "\n",
    "alpha = 0.10 # intervalle de confiance de 90%\n",
    "\n",
    "from statsmodels.stats.proportion import proportion_confint\n",
    "\n",
    "icinf, icsup = proportion_confint(n_guerison_gueris,n_guerison, alpha=alpha, method='normal')\n",
    "print('Intervalle de confiance =',100*(1-alpha),'%')\n",
    "print(\"Borne inférieure =\",round(icinf,3))\n",
    "print(\"Borne supérieure =\",round(icsup,3))"
   ]
  },
  {
   "cell_type": "markdown",
   "metadata": {},
   "source": [
    "Remarquons ici que l’hypothèse gaussienne n’était pas obligatoire ici, en effet l’échantillon est de taille suffisamment importante (supérieure à 30).\n"
   ]
  },
  {
   "cell_type": "code",
   "execution_count": 9,
   "metadata": {},
   "outputs": [
    {
     "name": "stdout",
     "output_type": "stream",
     "text": [
      "Borne inférieure = 31.072\n",
      "Borne supérieure = 31.827\n"
     ]
    }
   ],
   "source": [
    "import scipy\n",
    "alpha = 0.05 # intervalle de confiance de 95%\n",
    "\n",
    "\n",
    "icinf=xbar-scipy.stats.t.ppf(1-alpha/2,n_essence-1)*sprime/math.sqrt(n_essence)\n",
    "icsup=xbar+scipy.stats.t.ppf(1-alpha/2,n_essence-1)*sprime/math.sqrt(n_essence)\n",
    "print(\"Borne inférieure =\",round(icinf,3))\n",
    "print(\"Borne supérieure =\",round(icsup,3))"
   ]
  },
  {
   "cell_type": "markdown",
   "metadata": {},
   "source": [
    "IC sur variance: "
   ]
  },
  {
   "cell_type": "code",
   "execution_count": 10,
   "metadata": {},
   "outputs": [
    {
     "name": "stdout",
     "output_type": "stream",
     "text": [
      "Borne inférieure = 3.701\n",
      "Borne supérieure = 6.064\n"
     ]
    }
   ],
   "source": [
    "icinf = (n_essence-1)*sprime2/scipy.stats.chi2.ppf(1-alpha/2,n_essence-1)\n",
    "icsup = (n_essence-1)*sprime2/scipy.stats.chi2.ppf(alpha/2,n_essence-1)\n",
    "print(\"Borne inférieure =\",round(icinf,3))\n",
    "print(\"Borne supérieure =\",round(icsup,3))"
   ]
  }
 ],
 "metadata": {
  "kernelspec": {
   "display_name": "Python 3",
   "language": "python",
   "name": "python3"
  },
  "language_info": {
   "codemirror_mode": {
    "name": "ipython",
    "version": 3
   },
   "file_extension": ".py",
   "mimetype": "text/x-python",
   "name": "python",
   "nbconvert_exporter": "python",
   "pygments_lexer": "ipython3",
   "version": "3.7.3"
  }
 },
 "nbformat": 4,
 "nbformat_minor": 2
}
