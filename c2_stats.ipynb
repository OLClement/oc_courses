{
 "cells": [
  {
   "cell_type": "code",
   "execution_count": 1,
   "metadata": {},
   "outputs": [],
   "source": [
    "import numpy as np\n",
    "import pandas as pd\n",
    "%matplotlib inline\n",
    "import matplotlib\n",
    "import matplotlib.pyplot as plt\n",
    "from matplotlib import lines\n",
    "import math\n",
    "\n",
    "essence = pd.read_csv('datasets/essence.txt')"
   ]
  },
  {
   "cell_type": "markdown",
   "metadata": {},
   "source": [
    "## Estimateurs"
   ]
  },
  {
   "cell_type": "markdown",
   "metadata": {},
   "source": [
    "Calcule moyenne, variance et ecart-type de l'echantillon"
   ]
  },
  {
   "cell_type": "code",
   "execution_count": 2,
   "metadata": {},
   "outputs": [
    {
     "name": "stdout",
     "output_type": "stream",
     "text": [
      "moyenne: 31.45\n",
      "variance: 4.66\n",
      "ecart-type: 2.16\n"
     ]
    }
   ],
   "source": [
    "xbar = np.mean(essence['conso'])\n",
    "print('moyenne:',round(xbar,2))\n",
    "\n",
    "sprime2 = np.var(essence['conso'],ddof=1)\n",
    "print('variance:',round(sprime2,2))\n",
    "\n",
    "sprime = np.std(essence['conso'],ddof=1)\n",
    "print('ecart-type:',round(sprime,2))"
   ]
  },
  {
   "cell_type": "code",
   "execution_count": 3,
   "metadata": {},
   "outputs": [
    {
     "name": "stdout",
     "output_type": "stream",
     "text": [
      "variance biaisée: 4.63\n"
     ]
    }
   ],
   "source": [
    "# variance biaisée = ne prenant pas en compte la taille de m'echantillon\n",
    "n_essence = len(essence)\n",
    "v = np.var(essence['conso'])\n",
    "print('variance biaisée:',round(v,2))"
   ]
  },
  {
   "cell_type": "markdown",
   "metadata": {},
   "source": [
    "Histogramme de la valeurs consommation avec:\n",
    "* moyenne empirique \n",
    "* seuil \"métier\""
   ]
  },
  {
   "cell_type": "code",
   "execution_count": 4,
   "metadata": {},
   "outputs": [
    {
     "data": {
      "image/png": "[encoded data removed]",
      "text/plain": [
       "<Figure size 432x288 with 1 Axes>"
      ]
     },
     "metadata": {
      "needs_background": "light"
     },
     "output_type": "display_data"
    }
   ],
   "source": [
    "mu0 = 31\n",
    "\n",
    "plt.hist(essence['conso'],bins=range(26,38))\n",
    "plt.title('Histograme')\n",
    "# moyenne empirique\n",
    "plt.axvline(xbar, color='r', linewidth=2)\n",
    "# seuile métier\n",
    "plt.axvline(mu0, color='b',linewidth=2)\n",
    "plt.legend(handles=[lines.Line2D([], [], color='red',markersize=15, label=\"Moyenne empirique\"),\n",
    "                    lines.Line2D([], [], color='blue',markersize=15, label=u\"Seuil testé\")])\n",
    "plt.show()"
   ]
  },
  {
   "cell_type": "markdown",
   "metadata": {},
   "source": [
    "Taux de guérison"
   ]
  },
  {
   "cell_type": "code",
   "execution_count": 5,
   "metadata": {},
   "outputs": [],
   "source": [
    "guerison = pd.read_csv('datasets/guerison.txt')"
   ]
  },
  {
   "cell_type": "code",
   "execution_count": 6,
   "metadata": {},
   "outputs": [
    {
     "name": "stdout",
     "output_type": "stream",
     "text": [
      "proportion gueris: 0.77 %\n"
     ]
    }
   ],
   "source": [
    "n_guerison = len(guerison)\n",
    "n_guerison_gueris = np.sum(guerison.loc[guerison['guerison'] == 1]['guerison'])\n",
    "\n",
    "p_estim = n_guerison_gueris/n_guerison\n",
    "print('proportion gueris:',round(p_estim,2),'%')"
   ]
  },
  {
   "cell_type": "markdown",
   "metadata": {},
   "source": [
    "## Intervalles de confiance"
   ]
  },
  {
   "cell_type": "code",
   "execution_count": 7,
   "metadata": {},
   "outputs": [
    {
     "name": "stdout",
     "output_type": "stream",
     "text": [
      "Intervalle de confiance = 95.0 %\n",
      "Borne inférieure = 0.717\n",
      "Borne supérieure = 0.829\n"
     ]
    }
   ],
   "source": [
    "alpha = 0.05\n",
    "\n",
    "from scipy.stats import norm\n",
    "\n",
    "icinf = p_estim - norm.ppf(1-alpha/2)*math.sqrt(p_estim*(1-p_estim)/n_guerison)\n",
    "icsup = p_estim + norm.ppf(1-alpha/2)*math.sqrt(p_estim*(1-p_estim)/n_guerison)\n",
    "\n",
    "print('Intervalle de confiance =',100*(1-alpha),'%')\n",
    "print(\"Borne inférieure =\",round(icinf,3))\n",
    "print(\"Borne supérieure =\",round(icsup,3))"
   ]
  },
  {
   "cell_type": "code",
   "execution_count": 13,
   "metadata": {},
   "outputs": [
    {
     "data": {
      "text/plain": [
       "1.959963984540054"
      ]
     },
     "execution_count": 13,
     "metadata": {},
     "output_type": "execute_result"
    }
   ],
   "source": [
    "alpha = 0.05\n",
    "norm.ppf(1-alpha/2)"
   ]
  },
  {
   "cell_type": "markdown",
   "metadata": {},
   "source": [
    "95% de chance que le taux de guérison soit compris entre 0.717 et 0.829."
   ]
  },
  {
   "cell_type": "code",
   "execution_count": 8,
   "metadata": {},
   "outputs": [
    {
     "name": "stdout",
     "output_type": "stream",
     "text": [
      "Intervalle de confiance = 90.0 %\n",
      "Borne inférieure = 0.726\n",
      "Borne supérieure = 0.82\n"
     ]
    }
   ],
   "source": [
    "# proportion_confint du package statsmodel.stats.proportion effectue le calcul \n",
    "\n",
    "alpha = 0.10 # intervalle de confiance de 90%\n",
    "\n",
    "from statsmodels.stats.proportion import proportion_confint\n",
    "\n",
    "icinf, icsup = proportion_confint(n_guerison_gueris,n_guerison, alpha=alpha, method='normal')\n",
    "print('Intervalle de confiance =',100*(1-alpha),'%')\n",
    "print(\"Borne inférieure =\",round(icinf,3))\n",
    "print(\"Borne supérieure =\",round(icsup,3))"
   ]
  },
  {
   "cell_type": "markdown",
   "metadata": {},
   "source": [
    "Remarquons ici que l’hypothèse gaussienne n’était pas obligatoire ici, en effet l’échantillon est de taille suffisamment importante (supérieure à 30).\n"
   ]
  },
  {
   "cell_type": "code",
   "execution_count": 9,
   "metadata": {},
   "outputs": [
    {
     "name": "stdout",
     "output_type": "stream",
     "text": [
      "Borne inférieure = 31.072\n",
      "Borne supérieure = 31.827\n"
     ]
    }
   ],
   "source": [
    "import scipy\n",
    "alpha = 0.05 # intervalle de confiance de 95%\n",
    "\n",
    "\n",
    "icinf=xbar-scipy.stats.t.ppf(1-alpha/2,n_essence-1)*sprime/math.sqrt(n_essence)\n",
    "icsup=xbar+scipy.stats.t.ppf(1-alpha/2,n_essence-1)*sprime/math.sqrt(n_essence)\n",
    "print(\"Borne inférieure =\",round(icinf,3))\n",
    "print(\"Borne supérieure =\",round(icsup,3))"
   ]
  },
  {
   "cell_type": "markdown",
   "metadata": {},
   "source": [
    "IC sur variance: "
   ]
  },
  {
   "cell_type": "code",
   "execution_count": 10,
   "metadata": {},
   "outputs": [
    {
     "name": "stdout",
     "output_type": "stream",
     "text": [
      "Borne inférieure = 3.701\n",
      "Borne supérieure = 6.064\n"
     ]
    }
   ],
   "source": [
    "icinf = (n_essence-1)*sprime2/scipy.stats.chi2.ppf(1-alpha/2,n_essence-1)\n",
    "icsup = (n_essence-1)*sprime2/scipy.stats.chi2.ppf(alpha/2,n_essence-1)\n",
    "print(\"Borne inférieure =\",round(icinf,3))\n",
    "print(\"Borne supérieure =\",round(icsup,3))"
   ]
  },
  {
   "cell_type": "markdown",
   "metadata": {},
   "source": [
    "## Test sur Guerison"
   ]
  },
  {
   "cell_type": "markdown",
   "metadata": {},
   "source": [
    "Test binomiale pour le probleme du taux de guérison. "
   ]
  },
  {
   "cell_type": "code",
   "execution_count": 18,
   "metadata": {},
   "outputs": [
    {
     "name": "stdout",
     "output_type": "stream",
     "text": [
      "p-valeur: 0.24\n"
     ]
    }
   ],
   "source": [
    "import statsmodels\n",
    "p_0 = 0.75\n",
    "\n",
    "\"\"\"\n",
    "input = nb success, nb failed, p_0 et type de test (bilatere, unilatere etc.)\n",
    "\"\"\"\n",
    "p_value = statsmodels.stats.proportion.binom_test(n_guerison_gueris,n_guerison, prop=p_0, alternative='larger')\n",
    "\n",
    "print('p-valeur:',round(p_value,2))"
   ]
  },
  {
   "cell_type": "markdown",
   "metadata": {},
   "source": [
    "La p-valeur valant 0.24, on ne rejette pas l'hypothse nulle ($p_0 = p$) au niveau de test 5%."
   ]
  },
  {
   "cell_type": "markdown",
   "metadata": {},
   "source": [
    "Test de Student (ou t test) pour le probleme du consommation moyenne. "
   ]
  },
  {
   "cell_type": "code",
   "execution_count": 19,
   "metadata": {},
   "outputs": [
    {
     "data": {
      "text/plain": [
       "Ttest_1sampResult(statistic=2.354357516761916, pvalue=0.020088330843337596)"
      ]
     },
     "execution_count": 19,
     "metadata": {},
     "output_type": "execute_result"
    }
   ],
   "source": [
    "scipy.stats.ttest_1samp(essence[\"conso\"],31)"
   ]
  },
  {
   "cell_type": "markdown",
   "metadata": {},
   "source": [
    "La p-valeur valant 0.02, on rejette donc l'hypothse nulle ($\\mu_0 = \\bar{\\mu}$) au niveau de test 5%."
   ]
  },
  {
   "cell_type": "markdown",
   "metadata": {},
   "source": [
    "Test de khi-2 pour le probleme de la variance de consommation d'essence. "
   ]
  },
  {
   "cell_type": "markdown",
   "metadata": {},
   "source": [
    "#### Comparaison d'échantillons gaussiens"
   ]
  },
  {
   "cell_type": "code",
   "execution_count": 36,
   "metadata": {},
   "outputs": [
    {
     "data": {
      "text/html": [
       "<div>\n",
       "<style scoped>\n",
       "    .dataframe tbody tr th:only-of-type {\n",
       "        vertical-align: middle;\n",
       "    }\n",
       "\n",
       "    .dataframe tbody tr th {\n",
       "        vertical-align: top;\n",
       "    }\n",
       "\n",
       "    .dataframe thead th {\n",
       "        text-align: right;\n",
       "    }\n",
       "</style>\n",
       "<table border=\"1\" class=\"dataframe\">\n",
       "  <thead>\n",
       "    <tr style=\"text-align: right;\">\n",
       "      <th></th>\n",
       "      <th>sepal length (cm)</th>\n",
       "      <th>sepal width (cm)</th>\n",
       "      <th>petal length (cm)</th>\n",
       "      <th>petal width (cm)</th>\n",
       "      <th>Species</th>\n",
       "    </tr>\n",
       "  </thead>\n",
       "  <tbody>\n",
       "    <tr>\n",
       "      <th>0</th>\n",
       "      <td>5.1</td>\n",
       "      <td>3.5</td>\n",
       "      <td>1.4</td>\n",
       "      <td>0.2</td>\n",
       "      <td>setosa</td>\n",
       "    </tr>\n",
       "    <tr>\n",
       "      <th>1</th>\n",
       "      <td>4.9</td>\n",
       "      <td>3.0</td>\n",
       "      <td>1.4</td>\n",
       "      <td>0.2</td>\n",
       "      <td>setosa</td>\n",
       "    </tr>\n",
       "    <tr>\n",
       "      <th>2</th>\n",
       "      <td>4.7</td>\n",
       "      <td>3.2</td>\n",
       "      <td>1.3</td>\n",
       "      <td>0.2</td>\n",
       "      <td>setosa</td>\n",
       "    </tr>\n",
       "    <tr>\n",
       "      <th>3</th>\n",
       "      <td>4.6</td>\n",
       "      <td>3.1</td>\n",
       "      <td>1.5</td>\n",
       "      <td>0.2</td>\n",
       "      <td>setosa</td>\n",
       "    </tr>\n",
       "    <tr>\n",
       "      <th>4</th>\n",
       "      <td>5.0</td>\n",
       "      <td>3.6</td>\n",
       "      <td>1.4</td>\n",
       "      <td>0.2</td>\n",
       "      <td>setosa</td>\n",
       "    </tr>\n",
       "  </tbody>\n",
       "</table>\n",
       "</div>"
      ],
      "text/plain": [
       "   sepal length (cm)  sepal width (cm)  petal length (cm)  petal width (cm)  \\\n",
       "0                5.1               3.5                1.4               0.2   \n",
       "1                4.9               3.0                1.4               0.2   \n",
       "2                4.7               3.2                1.3               0.2   \n",
       "3                4.6               3.1                1.5               0.2   \n",
       "4                5.0               3.6                1.4               0.2   \n",
       "\n",
       "  Species  \n",
       "0  setosa  \n",
       "1  setosa  \n",
       "2  setosa  \n",
       "3  setosa  \n",
       "4  setosa  "
      ]
     },
     "execution_count": 36,
     "metadata": {},
     "output_type": "execute_result"
    }
   ],
   "source": [
    "from sklearn.datasets import load_iris\n",
    "\n",
    "def target_name_iris(y):\n",
    "    return Iris.target_names[y]\n",
    "Iris = load_iris()\n",
    "iris = pd.DataFrame(Iris.data,columns=Iris['feature_names'])\n",
    "iris['Species'] = Iris.target\n",
    "iris['Species'] = iris['Species'].apply(target_name_iris)\n",
    "iris.head()"
   ]
  },
  {
   "cell_type": "code",
   "execution_count": 37,
   "metadata": {},
   "outputs": [],
   "source": [
    "versi = iris[iris[\"Species\"]==\"versicolor\"][\"petal length (cm)\"]\n",
    "virgi = iris[iris[\"Species\"]==\"virginica\"][\"petal length (cm)\"]"
   ]
  },
  {
   "cell_type": "markdown",
   "metadata": {},
   "source": [
    "On teste tout d’abord l’égalité des variances à l’aide du test de Bartlett pour évaluer des echantillons indépendants"
   ]
  },
  {
   "cell_type": "code",
   "execution_count": 39,
   "metadata": {},
   "outputs": [
    {
     "data": {
      "text/plain": [
       "BartlettResult(statistic=1.249026225204677, pvalue=0.2637385445079441)"
      ]
     },
     "execution_count": 39,
     "metadata": {},
     "output_type": "execute_result"
    }
   ],
   "source": [
    "scipy.stats.bartlett(versi,virgi)"
   ]
  },
  {
   "cell_type": "markdown",
   "metadata": {},
   "source": [
    "La p-valeur valant 0.26, on ne rejette donc pas l’égalité des variances au niveau de test 5%."
   ]
  },
  {
   "cell_type": "code",
   "execution_count": 40,
   "metadata": {},
   "outputs": [
    {
     "data": {
      "text/plain": [
       "Ttest_indResult(statistic=-12.603779441384985, pvalue=3.1788195478061495e-22)"
      ]
     },
     "execution_count": 40,
     "metadata": {},
     "output_type": "execute_result"
    }
   ],
   "source": [
    "scipy.stats.ttest_ind(versi,virgi, equal_var=True)"
   ]
  },
  {
   "cell_type": "markdown",
   "metadata": {},
   "source": [
    "Rejet de l'hypothese nulle tres facillement ($3.1*10^{22}$)"
   ]
  }
 ],
 "metadata": {
  "kernelspec": {
   "display_name": "Python 3",
   "language": "python",
   "name": "python3"
  },
  "language_info": {
   "codemirror_mode": {
    "name": "ipython",
    "version": 3
   },
   "file_extension": ".py",
   "mimetype": "text/x-python",
   "name": "python",
   "nbconvert_exporter": "python",
   "pygments_lexer": "ipython3",
   "version": "3.7.3"
  }
 },
 "nbformat": 4,
 "nbformat_minor": 2
}
